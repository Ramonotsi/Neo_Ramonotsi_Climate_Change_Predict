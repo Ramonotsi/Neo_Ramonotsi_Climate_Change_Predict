{
 "cells": [
  {
   "cell_type": "markdown",
   "metadata": {},
   "source": [
    "# Climate Change Belief Analysis\n"
   ]
  },
  {
   "cell_type": "markdown",
   "metadata": {},
   "source": [
    "## Table of contents\n",
    "1. Defining the problem statement\n",
    "2. Imports\n",
    "3. Exploratory data analysis\n",
    "    3.1 Univariate analysis\n",
    "    3.2 Bivariate analysis\n",
    "4. Data preparation for model building"
   ]
  },
  {
   "cell_type": "code",
   "execution_count": 1,
   "metadata": {},
   "outputs": [
    {
     "name": "stdout",
     "output_type": "stream",
     "text": [
      "Requirement already satisfied: comet_ml in c:\\users\\nramonotsi\\appdata\\local\\continuum\\anaconda3\\lib\\site-packages (3.2.4)\n",
      "Requirement already satisfied: wurlitzer>=1.0.2 in c:\\users\\nramonotsi\\appdata\\local\\continuum\\anaconda3\\lib\\site-packages (from comet_ml) (2.0.1)\n",
      "Requirement already satisfied: wrapt>=1.11.2 in c:\\users\\nramonotsi\\appdata\\local\\continuum\\anaconda3\\lib\\site-packages (from comet_ml) (1.11.2)\n",
      "Requirement already satisfied: six in c:\\users\\nramonotsi\\appdata\\local\\continuum\\anaconda3\\lib\\site-packages (from comet_ml) (1.12.0)\n",
      "Requirement already satisfied: websocket-client>=0.55.0 in c:\\users\\nramonotsi\\appdata\\local\\continuum\\anaconda3\\lib\\site-packages (from comet_ml) (0.57.0)\n",
      "Requirement already satisfied: everett[ini]>=1.0.1; python_version >= \"3.0\" in c:\\users\\nramonotsi\\appdata\\local\\continuum\\anaconda3\\lib\\site-packages (from comet_ml) (1.0.2)\n",
      "Requirement already satisfied: requests>=2.18.4 in c:\\users\\nramonotsi\\appdata\\local\\continuum\\anaconda3\\lib\\site-packages (from comet_ml) (2.22.0)\n",
      "Requirement already satisfied: netifaces>=0.10.7 in c:\\users\\nramonotsi\\appdata\\local\\continuum\\anaconda3\\lib\\site-packages (from comet_ml) (0.10.9)\n",
      "Requirement already satisfied: dulwich>=0.20.6; python_version >= \"3.0\" in c:\\users\\nramonotsi\\appdata\\local\\continuum\\anaconda3\\lib\\site-packages (from comet_ml) (0.20.6)\n",
      "Requirement already satisfied: jsonschema!=3.1.0,>=2.6.0 in c:\\users\\nramonotsi\\appdata\\local\\continuum\\anaconda3\\lib\\site-packages (from comet_ml) (3.0.2)\n",
      "Requirement already satisfied: nvidia-ml-py3>=7.352.0 in c:\\users\\nramonotsi\\appdata\\local\\continuum\\anaconda3\\lib\\site-packages (from comet_ml) (7.352.0)\n",
      "Requirement already satisfied: configobj; extra == \"ini\" in c:\\users\\nramonotsi\\appdata\\local\\continuum\\anaconda3\\lib\\site-packages (from everett[ini]>=1.0.1; python_version >= \"3.0\"->comet_ml) (5.0.6)\n",
      "Requirement already satisfied: idna<2.9,>=2.5 in c:\\users\\nramonotsi\\appdata\\local\\continuum\\anaconda3\\lib\\site-packages (from requests>=2.18.4->comet_ml) (2.8)\n",
      "Requirement already satisfied: certifi>=2017.4.17 in c:\\users\\nramonotsi\\appdata\\local\\continuum\\anaconda3\\lib\\site-packages (from requests>=2.18.4->comet_ml) (2019.9.11)\n",
      "Requirement already satisfied: urllib3!=1.25.0,!=1.25.1,<1.26,>=1.21.1 in c:\\users\\nramonotsi\\appdata\\local\\continuum\\anaconda3\\lib\\site-packages (from requests>=2.18.4->comet_ml) (1.24.2)\n",
      "Requirement already satisfied: chardet<3.1.0,>=3.0.2 in c:\\users\\nramonotsi\\appdata\\local\\continuum\\anaconda3\\lib\\site-packages (from requests>=2.18.4->comet_ml) (3.0.4)\n",
      "Requirement already satisfied: setuptools in c:\\users\\nramonotsi\\appdata\\local\\continuum\\anaconda3\\lib\\site-packages (from jsonschema!=3.1.0,>=2.6.0->comet_ml) (41.4.0)\n",
      "Requirement already satisfied: attrs>=17.4.0 in c:\\users\\nramonotsi\\appdata\\local\\continuum\\anaconda3\\lib\\site-packages (from jsonschema!=3.1.0,>=2.6.0->comet_ml) (19.2.0)\n",
      "Requirement already satisfied: pyrsistent>=0.14.0 in c:\\users\\nramonotsi\\appdata\\local\\continuum\\anaconda3\\lib\\site-packages (from jsonschema!=3.1.0,>=2.6.0->comet_ml) (0.15.4)\n"
     ]
    }
   ],
   "source": [
    "!pip install comet_ml"
   ]
  },
  {
   "cell_type": "code",
   "execution_count": 2,
   "metadata": {},
   "outputs": [
    {
     "name": "stdout",
     "output_type": "stream",
     "text": [
      "Requirement already satisfied: wordcloud in c:\\users\\nramonotsi\\appdata\\local\\continuum\\anaconda3\\lib\\site-packages (1.8.0)\n",
      "Requirement already satisfied: matplotlib in c:\\users\\nramonotsi\\appdata\\local\\continuum\\anaconda3\\lib\\site-packages (from wordcloud) (3.1.1)\n",
      "Requirement already satisfied: pillow in c:\\users\\nramonotsi\\appdata\\local\\continuum\\anaconda3\\lib\\site-packages (from wordcloud) (6.2.0)\n",
      "Requirement already satisfied: numpy>=1.6.1 in c:\\users\\nramonotsi\\appdata\\local\\continuum\\anaconda3\\lib\\site-packages (from wordcloud) (1.16.5)\n",
      "Requirement already satisfied: cycler>=0.10 in c:\\users\\nramonotsi\\appdata\\local\\continuum\\anaconda3\\lib\\site-packages (from matplotlib->wordcloud) (0.10.0)\n",
      "Requirement already satisfied: kiwisolver>=1.0.1 in c:\\users\\nramonotsi\\appdata\\local\\continuum\\anaconda3\\lib\\site-packages (from matplotlib->wordcloud) (1.1.0)\n",
      "Requirement already satisfied: pyparsing!=2.0.4,!=2.1.2,!=2.1.6,>=2.0.1 in c:\\users\\nramonotsi\\appdata\\local\\continuum\\anaconda3\\lib\\site-packages (from matplotlib->wordcloud) (2.4.2)\n",
      "Requirement already satisfied: python-dateutil>=2.1 in c:\\users\\nramonotsi\\appdata\\local\\continuum\\anaconda3\\lib\\site-packages (from matplotlib->wordcloud) (2.8.0)\n",
      "Requirement already satisfied: six in c:\\users\\nramonotsi\\appdata\\local\\continuum\\anaconda3\\lib\\site-packages (from cycler>=0.10->matplotlib->wordcloud) (1.12.0)\n",
      "Requirement already satisfied: setuptools in c:\\users\\nramonotsi\\appdata\\local\\continuum\\anaconda3\\lib\\site-packages (from kiwisolver>=1.0.1->matplotlib->wordcloud) (41.4.0)\n"
     ]
    }
   ],
   "source": [
    "!pip install wordcloud"
   ]
  },
  {
   "cell_type": "code",
   "execution_count": 3,
   "metadata": {},
   "outputs": [
    {
     "name": "stderr",
     "output_type": "stream",
     "text": [
      "[nltk_data] Downloading package stopwords to\n",
      "[nltk_data]     C:\\Users\\NRamonotsi\\AppData\\Roaming\\nltk_data...\n",
      "[nltk_data]   Package stopwords is already up-to-date!\n",
      "[nltk_data] Downloading package punkt to\n",
      "[nltk_data]     C:\\Users\\NRamonotsi\\AppData\\Roaming\\nltk_data...\n",
      "[nltk_data]   Package punkt is already up-to-date!\n"
     ]
    }
   ],
   "source": [
    "#2. Importing librabries\n",
    "import numpy as np                        # For Mathematical calculations      \n",
    "import pandas as pd                       # Helps to analyse data  \n",
    "import seaborn as sns                     # For data visualisation\n",
    "from matplotlib import pyplot as plt      # For plotting graphs\n",
    "# plotting\n",
    "from wordcloud import WordCloud\n",
    "%matplotlib inline\n",
    "\n",
    "from sklearn.pipeline import Pipeline\n",
    "from sklearn.linear_model import LogisticRegression\n",
    "from sklearn.svm import SVC\n",
    "from sklearn.svm import LinearSVC\n",
    "from sklearn.naive_bayes import MultinomialNB\n",
    "from sklearn.multiclass import OneVsRestClassifier\n",
    "from sklearn.feature_extraction.text import TfidfVectorizer\n",
    "from sklearn.feature_extraction.text import CountVectorizer\n",
    "from sklearn.feature_extraction import DictVectorizer\n",
    "\n",
    "\n",
    "# Import libraries for Natural Languge Processing\n",
    "import re\n",
    "import nltk\n",
    "from nltk.corpus import stopwords\n",
    "from html.parser import HTMLParser\n",
    "from nltk.stem import PorterStemmer\n",
    "from nltk.tokenize import word_tokenize\n",
    "nltk.download('stopwords')\n",
    "nltk.download('punkt')\n",
    "\n",
    "import warnings\n",
    "warnings.filterwarnings('ignore')         #Ignoring warnings"
   ]
  },
  {
   "cell_type": "code",
   "execution_count": 4,
   "metadata": {},
   "outputs": [],
   "source": [
    "# Load dataset \n",
    "train = pd.read_csv('climate_train.csv')\n",
    "test = pd.read_csv('climate_test.csv')\n",
    "sample_submission = pd.read_csv('climate_sample_submission.csv') "
   ]
  },
  {
   "cell_type": "code",
   "execution_count": null,
   "metadata": {},
   "outputs": [],
   "source": []
  },
  {
   "cell_type": "code",
   "execution_count": 5,
   "metadata": {},
   "outputs": [],
   "source": [
    "#Copy of dataset \n",
    "train_original=train.copy()\n",
    "test_original=test.copy()"
   ]
  },
  {
   "cell_type": "code",
   "execution_count": 6,
   "metadata": {},
   "outputs": [
    {
     "data": {
      "text/plain": [
       "Index(['sentiment', 'message', 'tweetid'], dtype='object')"
      ]
     },
     "execution_count": 6,
     "metadata": {},
     "output_type": "execute_result"
    }
   ],
   "source": [
    "train.columns"
   ]
  },
  {
   "cell_type": "code",
   "execution_count": 7,
   "metadata": {},
   "outputs": [
    {
     "data": {
      "text/plain": [
       "Index(['message', 'tweetid'], dtype='object')"
      ]
     },
     "execution_count": 7,
     "metadata": {},
     "output_type": "execute_result"
    }
   ],
   "source": [
    "test.columns"
   ]
  },
  {
   "cell_type": "code",
   "execution_count": null,
   "metadata": {},
   "outputs": [],
   "source": []
  },
  {
   "cell_type": "code",
   "execution_count": 8,
   "metadata": {},
   "outputs": [
    {
     "data": {
      "text/html": [
       "<div>\n",
       "<style scoped>\n",
       "    .dataframe tbody tr th:only-of-type {\n",
       "        vertical-align: middle;\n",
       "    }\n",
       "\n",
       "    .dataframe tbody tr th {\n",
       "        vertical-align: top;\n",
       "    }\n",
       "\n",
       "    .dataframe thead th {\n",
       "        text-align: right;\n",
       "    }\n",
       "</style>\n",
       "<table border=\"1\" class=\"dataframe\">\n",
       "  <thead>\n",
       "    <tr style=\"text-align: right;\">\n",
       "      <th></th>\n",
       "      <th>sentiment</th>\n",
       "      <th>message</th>\n",
       "      <th>tweetid</th>\n",
       "    </tr>\n",
       "  </thead>\n",
       "  <tbody>\n",
       "    <tr>\n",
       "      <td>0</td>\n",
       "      <td>1</td>\n",
       "      <td>PolySciMajor EPA chief doesn't think carbon di...</td>\n",
       "      <td>625221</td>\n",
       "    </tr>\n",
       "    <tr>\n",
       "      <td>1</td>\n",
       "      <td>1</td>\n",
       "      <td>It's not like we lack evidence of anthropogeni...</td>\n",
       "      <td>126103</td>\n",
       "    </tr>\n",
       "    <tr>\n",
       "      <td>2</td>\n",
       "      <td>2</td>\n",
       "      <td>RT @RawStory: Researchers say we have three ye...</td>\n",
       "      <td>698562</td>\n",
       "    </tr>\n",
       "    <tr>\n",
       "      <td>3</td>\n",
       "      <td>1</td>\n",
       "      <td>#TodayinMaker# WIRED : 2016 was a pivotal year...</td>\n",
       "      <td>573736</td>\n",
       "    </tr>\n",
       "    <tr>\n",
       "      <td>4</td>\n",
       "      <td>1</td>\n",
       "      <td>RT @SoyNovioDeTodas: It's 2016, and a racist, ...</td>\n",
       "      <td>466954</td>\n",
       "    </tr>\n",
       "  </tbody>\n",
       "</table>\n",
       "</div>"
      ],
      "text/plain": [
       "   sentiment                                            message  tweetid\n",
       "0          1  PolySciMajor EPA chief doesn't think carbon di...   625221\n",
       "1          1  It's not like we lack evidence of anthropogeni...   126103\n",
       "2          2  RT @RawStory: Researchers say we have three ye...   698562\n",
       "3          1  #TodayinMaker# WIRED : 2016 was a pivotal year...   573736\n",
       "4          1  RT @SoyNovioDeTodas: It's 2016, and a racist, ...   466954"
      ]
     },
     "execution_count": 8,
     "metadata": {},
     "output_type": "execute_result"
    }
   ],
   "source": [
    "# View the training data\n",
    "train.head()"
   ]
  },
  {
   "cell_type": "code",
   "execution_count": 9,
   "metadata": {},
   "outputs": [
    {
     "data": {
      "text/html": [
       "<div>\n",
       "<style scoped>\n",
       "    .dataframe tbody tr th:only-of-type {\n",
       "        vertical-align: middle;\n",
       "    }\n",
       "\n",
       "    .dataframe tbody tr th {\n",
       "        vertical-align: top;\n",
       "    }\n",
       "\n",
       "    .dataframe thead th {\n",
       "        text-align: right;\n",
       "    }\n",
       "</style>\n",
       "<table border=\"1\" class=\"dataframe\">\n",
       "  <thead>\n",
       "    <tr style=\"text-align: right;\">\n",
       "      <th></th>\n",
       "      <th>message</th>\n",
       "      <th>tweetid</th>\n",
       "    </tr>\n",
       "  </thead>\n",
       "  <tbody>\n",
       "    <tr>\n",
       "      <td>0</td>\n",
       "      <td>Europe will now be looking to China to make su...</td>\n",
       "      <td>169760</td>\n",
       "    </tr>\n",
       "    <tr>\n",
       "      <td>1</td>\n",
       "      <td>Combine this with the polling of staffers re c...</td>\n",
       "      <td>35326</td>\n",
       "    </tr>\n",
       "    <tr>\n",
       "      <td>2</td>\n",
       "      <td>The scary, unimpeachable evidence that climate...</td>\n",
       "      <td>224985</td>\n",
       "    </tr>\n",
       "    <tr>\n",
       "      <td>3</td>\n",
       "      <td>@Karoli @morgfair @OsborneInk @dailykos \\nPuti...</td>\n",
       "      <td>476263</td>\n",
       "    </tr>\n",
       "    <tr>\n",
       "      <td>4</td>\n",
       "      <td>RT @FakeWillMoore: 'Female orgasms cause globa...</td>\n",
       "      <td>872928</td>\n",
       "    </tr>\n",
       "  </tbody>\n",
       "</table>\n",
       "</div>"
      ],
      "text/plain": [
       "                                             message  tweetid\n",
       "0  Europe will now be looking to China to make su...   169760\n",
       "1  Combine this with the polling of staffers re c...    35326\n",
       "2  The scary, unimpeachable evidence that climate...   224985\n",
       "3  @Karoli @morgfair @OsborneInk @dailykos \\nPuti...   476263\n",
       "4  RT @FakeWillMoore: 'Female orgasms cause globa...   872928"
      ]
     },
     "execution_count": 9,
     "metadata": {},
     "output_type": "execute_result"
    }
   ],
   "source": [
    "# View the test data \n",
    "test.head() "
   ]
  },
  {
   "cell_type": "code",
   "execution_count": 10,
   "metadata": {},
   "outputs": [
    {
     "data": {
      "text/html": [
       "<div>\n",
       "<style scoped>\n",
       "    .dataframe tbody tr th:only-of-type {\n",
       "        vertical-align: middle;\n",
       "    }\n",
       "\n",
       "    .dataframe tbody tr th {\n",
       "        vertical-align: top;\n",
       "    }\n",
       "\n",
       "    .dataframe thead th {\n",
       "        text-align: right;\n",
       "    }\n",
       "</style>\n",
       "<table border=\"1\" class=\"dataframe\">\n",
       "  <thead>\n",
       "    <tr style=\"text-align: right;\">\n",
       "      <th></th>\n",
       "      <th>tweetid</th>\n",
       "      <th>sentiment</th>\n",
       "    </tr>\n",
       "  </thead>\n",
       "  <tbody>\n",
       "    <tr>\n",
       "      <td>0</td>\n",
       "      <td>169760</td>\n",
       "      <td>1</td>\n",
       "    </tr>\n",
       "    <tr>\n",
       "      <td>1</td>\n",
       "      <td>35326</td>\n",
       "      <td>1</td>\n",
       "    </tr>\n",
       "    <tr>\n",
       "      <td>2</td>\n",
       "      <td>224985</td>\n",
       "      <td>1</td>\n",
       "    </tr>\n",
       "    <tr>\n",
       "      <td>3</td>\n",
       "      <td>476263</td>\n",
       "      <td>1</td>\n",
       "    </tr>\n",
       "    <tr>\n",
       "      <td>4</td>\n",
       "      <td>872928</td>\n",
       "      <td>1</td>\n",
       "    </tr>\n",
       "  </tbody>\n",
       "</table>\n",
       "</div>"
      ],
      "text/plain": [
       "   tweetid  sentiment\n",
       "0   169760          1\n",
       "1    35326          1\n",
       "2   224985          1\n",
       "3   476263          1\n",
       "4   872928          1"
      ]
     },
     "execution_count": 10,
     "metadata": {},
     "output_type": "execute_result"
    }
   ],
   "source": [
    "# View the sample submission\n",
    "sample_submission.head()"
   ]
  },
  {
   "cell_type": "code",
   "execution_count": 11,
   "metadata": {},
   "outputs": [
    {
     "data": {
      "text/plain": [
       "(10546, 2)"
      ]
     },
     "execution_count": 11,
     "metadata": {},
     "output_type": "execute_result"
    }
   ],
   "source": [
    "sample_submission.shape"
   ]
  },
  {
   "cell_type": "code",
   "execution_count": 12,
   "metadata": {},
   "outputs": [
    {
     "data": {
      "text/html": [
       "<div>\n",
       "<style scoped>\n",
       "    .dataframe tbody tr th:only-of-type {\n",
       "        vertical-align: middle;\n",
       "    }\n",
       "\n",
       "    .dataframe tbody tr th {\n",
       "        vertical-align: top;\n",
       "    }\n",
       "\n",
       "    .dataframe thead th {\n",
       "        text-align: right;\n",
       "    }\n",
       "</style>\n",
       "<table border=\"1\" class=\"dataframe\">\n",
       "  <thead>\n",
       "    <tr style=\"text-align: right;\">\n",
       "      <th></th>\n",
       "      <th>sentiment</th>\n",
       "      <th>tweetid</th>\n",
       "    </tr>\n",
       "  </thead>\n",
       "  <tbody>\n",
       "    <tr>\n",
       "      <td>count</td>\n",
       "      <td>15819.000000</td>\n",
       "      <td>15819.000000</td>\n",
       "    </tr>\n",
       "    <tr>\n",
       "      <td>mean</td>\n",
       "      <td>0.917504</td>\n",
       "      <td>501719.433656</td>\n",
       "    </tr>\n",
       "    <tr>\n",
       "      <td>std</td>\n",
       "      <td>0.836537</td>\n",
       "      <td>289045.983132</td>\n",
       "    </tr>\n",
       "    <tr>\n",
       "      <td>min</td>\n",
       "      <td>-1.000000</td>\n",
       "      <td>6.000000</td>\n",
       "    </tr>\n",
       "    <tr>\n",
       "      <td>25%</td>\n",
       "      <td>1.000000</td>\n",
       "      <td>253207.500000</td>\n",
       "    </tr>\n",
       "    <tr>\n",
       "      <td>50%</td>\n",
       "      <td>1.000000</td>\n",
       "      <td>502291.000000</td>\n",
       "    </tr>\n",
       "    <tr>\n",
       "      <td>75%</td>\n",
       "      <td>1.000000</td>\n",
       "      <td>753769.000000</td>\n",
       "    </tr>\n",
       "    <tr>\n",
       "      <td>max</td>\n",
       "      <td>2.000000</td>\n",
       "      <td>999888.000000</td>\n",
       "    </tr>\n",
       "  </tbody>\n",
       "</table>\n",
       "</div>"
      ],
      "text/plain": [
       "          sentiment        tweetid\n",
       "count  15819.000000   15819.000000\n",
       "mean       0.917504  501719.433656\n",
       "std        0.836537  289045.983132\n",
       "min       -1.000000       6.000000\n",
       "25%        1.000000  253207.500000\n",
       "50%        1.000000  502291.000000\n",
       "75%        1.000000  753769.000000\n",
       "max        2.000000  999888.000000"
      ]
     },
     "execution_count": 12,
     "metadata": {},
     "output_type": "execute_result"
    }
   ],
   "source": [
    "# Let's see some descriptive statistics from built in the pandas library function describe\n",
    "train.describe()"
   ]
  },
  {
   "cell_type": "code",
   "execution_count": 13,
   "metadata": {},
   "outputs": [
    {
     "data": {
      "text/plain": [
       "sentiment     int64\n",
       "message      object\n",
       "tweetid       int64\n",
       "dtype: object"
      ]
     },
     "execution_count": 13,
     "metadata": {},
     "output_type": "execute_result"
    }
   ],
   "source": [
    "# Different data types in the dataset\n",
    "train.dtypes"
   ]
  },
  {
   "cell_type": "code",
   "execution_count": 14,
   "metadata": {},
   "outputs": [
    {
     "data": {
      "text/plain": [
       "((15819, 3), (10546, 2))"
      ]
     },
     "execution_count": 14,
     "metadata": {},
     "output_type": "execute_result"
    }
   ],
   "source": [
    "train.shape, test.shape"
   ]
  },
  {
   "cell_type": "code",
   "execution_count": 15,
   "metadata": {},
   "outputs": [],
   "source": [
    "#3.Exploratory data analysis"
   ]
  },
  {
   "cell_type": "code",
   "execution_count": null,
   "metadata": {},
   "outputs": [],
   "source": []
  },
  {
   "cell_type": "markdown",
   "metadata": {},
   "source": [
    "|Value|Sentiment|Description|\n",
    "|-----|---------|-----------|\n",
    "|-1 |Anti |The tweet does not believe in man-made Climate Change|\n",
    "|0 |Neutral |The tweet does not believe in man-made Climate Change |\n",
    "|1 |Pro |The tweet supports the belief of man-made climate change |\n",
    "|2 |News |The tweet links to factual news about climate change |"
   ]
  },
  {
   "cell_type": "code",
   "execution_count": 16,
   "metadata": {},
   "outputs": [
    {
     "data": {
      "text/plain": [
       "sentiment    0\n",
       "message      0\n",
       "tweetid      0\n",
       "dtype: int64"
      ]
     },
     "execution_count": 16,
     "metadata": {},
     "output_type": "execute_result"
    }
   ],
   "source": [
    "# You can see the number of missing values like this\n",
    "train.isnull().sum()"
   ]
  },
  {
   "cell_type": "code",
   "execution_count": 17,
   "metadata": {},
   "outputs": [
    {
     "data": {
      "text/plain": [
       "message    0\n",
       "tweetid    0\n",
       "dtype: int64"
      ]
     },
     "execution_count": 17,
     "metadata": {},
     "output_type": "execute_result"
    }
   ],
   "source": [
    "test.isnull().sum()"
   ]
  },
  {
   "cell_type": "code",
   "execution_count": 18,
   "metadata": {},
   "outputs": [],
   "source": [
    "#3.1 Univariate analysis"
   ]
  },
  {
   "cell_type": "code",
   "execution_count": 19,
   "metadata": {},
   "outputs": [
    {
     "data": {
      "text/plain": [
       " 1    8530\n",
       " 2    3640\n",
       " 0    2353\n",
       "-1    1296\n",
       "Name: sentiment, dtype: int64"
      ]
     },
     "execution_count": 19,
     "metadata": {},
     "output_type": "execute_result"
    }
   ],
   "source": [
    "#Frequncy table(Give us count of each category in that variable)\n",
    "train['sentiment'].value_counts()"
   ]
  },
  {
   "cell_type": "code",
   "execution_count": 20,
   "metadata": {},
   "outputs": [
    {
     "data": {
      "text/plain": [
       " 1    0.539225\n",
       " 2    0.230103\n",
       " 0    0.148745\n",
       "-1    0.081927\n",
       "Name: sentiment, dtype: float64"
      ]
     },
     "execution_count": 20,
     "metadata": {},
     "output_type": "execute_result"
    }
   ],
   "source": [
    "# Percentage distribution\n",
    "train['sentiment'].value_counts(normalize=True)"
   ]
  },
  {
   "cell_type": "code",
   "execution_count": 21,
   "metadata": {},
   "outputs": [
    {
     "data": {
      "image/png": "[encoded data removed]",
      "text/plain": [
       "<Figure size 432x288 with 1 Axes>"
      ]
     },
     "metadata": {
      "needs_background": "light"
     },
     "output_type": "display_data"
    }
   ],
   "source": [
    "# Distribution of target variable\n",
    "\n",
    "# Bar graph\n",
    "\n",
    "font = {'family': 'serif',\n",
    "        'color':  'blue',\n",
    "        'weight': 'normal',\n",
    "        'size': 16,\n",
    "        }\n",
    "\n",
    "train['sentiment'].value_counts().plot.bar()\n",
    "plt.xlabel(\"sentiment\", fontdict = font)\n",
    "plt.ylabel(\"Number Of Tweets\", fontdict = font)\n",
    "plt.title(\"Dataset labels distribution\")\n",
    "plt.show()"
   ]
  },
  {
   "cell_type": "markdown",
   "metadata": {},
   "source": [
    "* Distribution of the dataset is skewed to the 1 ('Pro' sentiment).\n",
    "\n",
    "* The sum of tweets relating to News, Neutral & Anti is less than half of the total tweets."
   ]
  },
  {
   "cell_type": "code",
   "execution_count": 22,
   "metadata": {},
   "outputs": [
    {
     "name": "stdout",
     "output_type": "stream",
     "text": [
      "train dim: (15819, 3) test dim: (10546, 2)\n"
     ]
    },
    {
     "data": {
      "text/html": [
       "<div>\n",
       "<style scoped>\n",
       "    .dataframe tbody tr th:only-of-type {\n",
       "        vertical-align: middle;\n",
       "    }\n",
       "\n",
       "    .dataframe tbody tr th {\n",
       "        vertical-align: top;\n",
       "    }\n",
       "\n",
       "    .dataframe thead th {\n",
       "        text-align: right;\n",
       "    }\n",
       "</style>\n",
       "<table border=\"1\" class=\"dataframe\">\n",
       "  <thead>\n",
       "    <tr style=\"text-align: right;\">\n",
       "      <th></th>\n",
       "      <th>sentiment</th>\n",
       "      <th>message</th>\n",
       "      <th>tweetid</th>\n",
       "    </tr>\n",
       "  </thead>\n",
       "  <tbody>\n",
       "    <tr>\n",
       "      <td>0</td>\n",
       "      <td>1</td>\n",
       "      <td>PolySciMajor EPA chief doesn't think carbon di...</td>\n",
       "      <td>625221</td>\n",
       "    </tr>\n",
       "    <tr>\n",
       "      <td>1</td>\n",
       "      <td>1</td>\n",
       "      <td>It's not like we lack evidence of anthropogeni...</td>\n",
       "      <td>126103</td>\n",
       "    </tr>\n",
       "  </tbody>\n",
       "</table>\n",
       "</div>"
      ],
      "text/plain": [
       "   sentiment                                            message  tweetid\n",
       "0          1  PolySciMajor EPA chief doesn't think carbon di...   625221\n",
       "1          1  It's not like we lack evidence of anthropogeni...   126103"
      ]
     },
     "execution_count": 22,
     "metadata": {},
     "output_type": "execute_result"
    }
   ],
   "source": [
    "# Let us inspect the dimensions of the data sets.\n",
    "print('train dim:', train.shape, 'test dim:', test.shape)\n",
    "train.iloc[0:2]"
   ]
  },
  {
   "cell_type": "code",
   "execution_count": 23,
   "metadata": {},
   "outputs": [],
   "source": [
    "#EDA"
   ]
  },
  {
   "cell_type": "markdown",
   "metadata": {},
   "source": []
  },
  {
   "cell_type": "code",
   "execution_count": null,
   "metadata": {},
   "outputs": [],
   "source": []
  },
  {
   "cell_type": "markdown",
   "metadata": {},
   "source": [
    "\n",
    "## Tweet cleaning \n",
    "Removing unwanted variables  such as URL's, punctuations, mentions, numbers etc. We are also going to noralize the data by converting all letters to lowercase."
   ]
  },
  {
   "cell_type": "code",
   "execution_count": 24,
   "metadata": {},
   "outputs": [
    {
     "data": {
      "text/html": [
       "<div>\n",
       "<style scoped>\n",
       "    .dataframe tbody tr th:only-of-type {\n",
       "        vertical-align: middle;\n",
       "    }\n",
       "\n",
       "    .dataframe tbody tr th {\n",
       "        vertical-align: top;\n",
       "    }\n",
       "\n",
       "    .dataframe thead th {\n",
       "        text-align: right;\n",
       "    }\n",
       "</style>\n",
       "<table border=\"1\" class=\"dataframe\">\n",
       "  <thead>\n",
       "    <tr style=\"text-align: right;\">\n",
       "      <th></th>\n",
       "      <th>variables</th>\n",
       "      <th>definition</th>\n",
       "    </tr>\n",
       "  </thead>\n",
       "  <tbody>\n",
       "    <tr>\n",
       "      <td>0</td>\n",
       "      <td>sentiment</td>\n",
       "      <td>sentiment of twitter messages</td>\n",
       "    </tr>\n",
       "    <tr>\n",
       "      <td>1</td>\n",
       "      <td>message</td>\n",
       "      <td>twitter messages</td>\n",
       "    </tr>\n",
       "    <tr>\n",
       "      <td>2</td>\n",
       "      <td>tweetid</td>\n",
       "      <td>twitter unique id</td>\n",
       "    </tr>\n",
       "  </tbody>\n",
       "</table>\n",
       "</div>"
      ],
      "text/plain": [
       "   variables                     definition\n",
       "0  sentiment  sentiment of twitter messages\n",
       "1    message               twitter messages\n",
       "2    tweetid              twitter unique id"
      ]
     },
     "execution_count": 24,
     "metadata": {},
     "output_type": "execute_result"
    }
   ],
   "source": [
    "variables = pd.DataFrame([\"sentiment\", \"message\", \"tweetid\"], columns = [\"variables\"])\n",
    "variables[\"definition\"] = pd.DataFrame([\"sentiment of twitter messages\", \"twitter messages\", \"twitter unique id\"])\n",
    "variables.head()"
   ]
  },
  {
   "cell_type": "code",
   "execution_count": 25,
   "metadata": {},
   "outputs": [
    {
     "data": {
      "text/plain": [
       "3010    sorry at drivenorth\\nbut at communism_kills\\ny...\n",
       "3011    RT @6esm: Climate change, myth and religion: F...\n",
       "3012    As reported by the latest claims, the truth ar...\n",
       "3013    @AJEnglish @derrickg745 It's ok According to t...\n",
       "3014    U really out here on Twitter expecting everybo...\n",
       "Name: message, dtype: object"
      ]
     },
     "execution_count": 25,
     "metadata": {},
     "output_type": "execute_result"
    }
   ],
   "source": [
    "# Extract tweets from dataframe & creating a new dataframe with only tweets\n",
    "raw_tweets = train['message']\n",
    "\n",
    "# View top 5 rows of raw_tweets\n",
    "raw_tweets[3010:3015]"
   ]
  },
  {
   "cell_type": "code",
   "execution_count": 26,
   "metadata": {},
   "outputs": [],
   "source": [
    "# Replace email addresses with 'email'\n",
    "tweets = raw_tweets.str.replace(r'^.+@[^\\.].*\\.[a-z]{2,}$',\n",
    "                                 'emailaddress')\n",
    "\n",
    "# Remove unicode strings\n",
    "tweets = tweets.str.replace(r'(\\\\u[0-9A-Fa-f]+)', '')\n",
    "tweets = tweets.str.replace(r'[^\\x00-\\x7f]', '')\n",
    "\n",
    "# Convert any url to URL\n",
    "tweets = tweets.str.replace('((www\\.[^\\s]+)|(https?://[^\\s]+))',\n",
    "                            'website')\n",
    "\n",
    "# Remove special characters, numbers, punctuation\n",
    "tweets = tweets.str.replace('[^a-zA-Z#@]+',' ')\n",
    "\n",
    "# Remove additional white spaces\n",
    "tweets = tweets.str.replace(r'\\s+', ' ')\n",
    "tweets = tweets.str.replace(r'^\\s+|\\s+?$', '')\n",
    "\n",
    "# Change words to lower case\n",
    "tweets = tweets.str.lower()\n",
    "\n",
    "# Remove stop words from tweets\n",
    "stop_words = set(stopwords.words('english'))\n",
    "\n",
    "tweets = tweets.apply(lambda x: ' '.join(\n",
    "    word for word in x.split() if word not in stop_words))"
   ]
  },
  {
   "cell_type": "code",
   "execution_count": 27,
   "metadata": {},
   "outputs": [
    {
     "data": {
      "text/plain": [
       "0    polyscimajor epa chief think carbon dioxide ma...\n",
       "1      like lack evidence anthropogenic global warming\n",
       "2    rt @rawstory researchers say three years act c...\n",
       "3    #todayinmaker# wired pivotal year war climate ...\n",
       "4    rt @soynoviodetodas racist sexist climate chan...\n",
       "Name: message, dtype: object"
      ]
     },
     "execution_count": 27,
     "metadata": {},
     "output_type": "execute_result"
    }
   ],
   "source": [
    "# Viewing the changed message column\n",
    "tweets[:5]"
   ]
  },
  {
   "cell_type": "code",
   "execution_count": 28,
   "metadata": {},
   "outputs": [
    {
     "data": {
      "text/html": [
       "<div>\n",
       "<style scoped>\n",
       "    .dataframe tbody tr th:only-of-type {\n",
       "        vertical-align: middle;\n",
       "    }\n",
       "\n",
       "    .dataframe tbody tr th {\n",
       "        vertical-align: top;\n",
       "    }\n",
       "\n",
       "    .dataframe thead th {\n",
       "        text-align: right;\n",
       "    }\n",
       "</style>\n",
       "<table border=\"1\" class=\"dataframe\">\n",
       "  <thead>\n",
       "    <tr style=\"text-align: right;\">\n",
       "      <th></th>\n",
       "      <th>message</th>\n",
       "      <th>sentiment</th>\n",
       "    </tr>\n",
       "  </thead>\n",
       "  <tbody>\n",
       "    <tr>\n",
       "      <td>0</td>\n",
       "      <td>polyscimajor epa chief think carbon dioxide ma...</td>\n",
       "      <td>1</td>\n",
       "    </tr>\n",
       "    <tr>\n",
       "      <td>1</td>\n",
       "      <td>like lack evidence anthropogenic global warming</td>\n",
       "      <td>1</td>\n",
       "    </tr>\n",
       "    <tr>\n",
       "      <td>2</td>\n",
       "      <td>rt @rawstory researchers say three years act c...</td>\n",
       "      <td>2</td>\n",
       "    </tr>\n",
       "    <tr>\n",
       "      <td>3</td>\n",
       "      <td>#todayinmaker# wired pivotal year war climate ...</td>\n",
       "      <td>1</td>\n",
       "    </tr>\n",
       "    <tr>\n",
       "      <td>4</td>\n",
       "      <td>rt @soynoviodetodas racist sexist climate chan...</td>\n",
       "      <td>1</td>\n",
       "    </tr>\n",
       "  </tbody>\n",
       "</table>\n",
       "</div>"
      ],
      "text/plain": [
       "                                             message  sentiment\n",
       "0  polyscimajor epa chief think carbon dioxide ma...          1\n",
       "1    like lack evidence anthropogenic global warming          1\n",
       "2  rt @rawstory researchers say three years act c...          2\n",
       "3  #todayinmaker# wired pivotal year war climate ...          1\n",
       "4  rt @soynoviodetodas racist sexist climate chan...          1"
      ]
     },
     "execution_count": 28,
     "metadata": {},
     "output_type": "execute_result"
    }
   ],
   "source": [
    "# Creating a dataframe from the cleaned up message column\n",
    "tweets_df = pd.DataFrame(tweets)\n",
    "\n",
    "# Add sentiment column to the tweets dataframe\n",
    "tweets_df['sentiment'] = train['sentiment']\n",
    "\n",
    "# View the top 5 rows of tweets\n",
    "tweets_df.head()"
   ]
  },
  {
   "cell_type": "code",
   "execution_count": 29,
   "metadata": {},
   "outputs": [
    {
     "data": {
      "image/png": "[encoded data removed]",
      "text/plain": [
       "<Figure size 1440x864 with 4 Axes>"
      ]
     },
     "metadata": {
      "needs_background": "light"
     },
     "output_type": "display_data"
    }
   ],
   "source": [
    "# Plotting word clouds.\n",
    "\n",
    "news = train[train['sentiment'] == 2]['message']\n",
    "pro = train[train['sentiment'] == 1]['message']\n",
    "neutral =train[train['sentiment'] == 0]['message']\n",
    "Anti = train[train['sentiment'] ==-1]['message']\n",
    "\n",
    "\n",
    "news = [word for line in news for word in line.split()]\n",
    "pro = [word for line in pro for word in line.split()]\n",
    "neutral = [word for line in neutral for word in line.split()]\n",
    "Anti= [word for line in Anti for word in line.split()]\n",
    "\n",
    "news = WordCloud(\n",
    "    background_color='black',\n",
    "    max_words=50,\n",
    "    max_font_size=100,\n",
    "    scale=5,\n",
    "    random_state=1,\n",
    "    collocations=False,\n",
    "    normalize_plurals=False\n",
    ").generate(' '.join(news))\n",
    "\n",
    "pro = WordCloud(\n",
    "    background_color='black',\n",
    "    max_words=50,\n",
    "    max_font_size=100,\n",
    "    scale=5,\n",
    "    random_state=1,\n",
    "    collocations=False,\n",
    "    normalize_plurals=False\n",
    ").generate(' '.join(pro))\n",
    "\n",
    "\n",
    "\n",
    "neutral = WordCloud(\n",
    "    background_color='black',\n",
    "    max_words=50,\n",
    "    max_font_size=100,\n",
    "    scale=5,\n",
    "    random_state=1,\n",
    "    collocations=False,\n",
    "    normalize_plurals=False\n",
    ").generate(' '.join(neutral))\n",
    "\n",
    "\n",
    "Anti = WordCloud(\n",
    "    background_color='black',\n",
    "    max_words=50,\n",
    "    max_font_size=100,\n",
    "    scale=5,\n",
    "    random_state=1,\n",
    "    collocations=False,\n",
    "    normalize_plurals=False\n",
    ").generate(' '.join(Anti))\n",
    "\n",
    "\n",
    "fig, axs = plt.subplots(2, 2, figsize = (20, 12))\n",
    "\n",
    "# fig.suptitle('Clouds of polar words', fontsize = 30)\n",
    "\n",
    "fig.tight_layout(pad = 0)\n",
    "\n",
    "axs[0, 0].imshow(news)\n",
    "axs[0, 0].set_title('Words from news tweets', fontsize = 20)\n",
    "axs[0, 0].axis('off')\n",
    "\n",
    "# axs[0, 0].tight_layout(pad = 1)\n",
    "\n",
    "axs[0, 1].imshow(pro)\n",
    "axs[0, 1].set_title('Words from pro tweets', fontsize = 20)\n",
    "axs[0, 1].axis('off')\n",
    "\n",
    "# axs[0, 1].tight_layout(pad = 1)\n",
    "\n",
    "\n",
    "# axs[1, 0].tight_layout(pad = 1)\n",
    "\n",
    "axs[1, 0].imshow(Anti)\n",
    "axs[1, 0].set_title('Words from anti tweets', fontsize = 20)\n",
    "axs[1, 0].axis('off')\n",
    "\n",
    "axs[1, 1].imshow(neutral)\n",
    "axs[1, 1].set_title('Words from neutral tweets', fontsize = 20)\n",
    "axs[1, 1].axis('off')\n",
    "\n",
    "# axs[1, 0].tight_layout(pad = 1)\n",
    "\n",
    "plt.savefig('joint_cloud.png')"
   ]
  },
  {
   "cell_type": "code",
   "execution_count": null,
   "metadata": {},
   "outputs": [],
   "source": []
  },
  {
   "cell_type": "markdown",
   "metadata": {},
   "source": [
    "* The Climate Change words seems to be the most frequently used word in all the tweet classes. This implies that both classes are tweeting about the Climate Change since it is the main topic."
   ]
  },
  {
   "cell_type": "code",
   "execution_count": null,
   "metadata": {},
   "outputs": [],
   "source": []
  },
  {
   "cell_type": "code",
   "execution_count": 30,
   "metadata": {},
   "outputs": [],
   "source": [
    "#3.2 Bivariate analysis"
   ]
  },
  {
   "cell_type": "code",
   "execution_count": 31,
   "metadata": {},
   "outputs": [],
   "source": [
    "# Understanding Relationship of Hashtags and Sentiment of Tweet"
   ]
  },
  {
   "cell_type": "code",
   "execution_count": 32,
   "metadata": {},
   "outputs": [],
   "source": [
    "# Function used to extract hashtags\n",
    "def hashtag_extract(user_input):\n",
    "    hashtags = []\n",
    "    # Loop over the words in the tweet\n",
    "    for text in user_input:\n",
    "        ht = re.findall(r\"#(\\w+)\", text)\n",
    "        hashtags.append(ht)\n",
    "\n",
    "    return hashtags"
   ]
  },
  {
   "cell_type": "code",
   "execution_count": null,
   "metadata": {},
   "outputs": [],
   "source": []
  },
  {
   "cell_type": "code",
   "execution_count": 33,
   "metadata": {},
   "outputs": [],
   "source": [
    "# Extracting Hashtags From News Broadcast\n",
    "HT_news = hashtag_extract(train[\"message\"][train[\"sentiment\"] == 2])\n",
    "# Extracting Hashtags From Pro Sentiments\n",
    "HT_positive = hashtag_extract(train[\"message\"][train[\"sentiment\"] == 1])\n",
    "# Extracting Hashtags From Neutral Sentiments\n",
    "HT_normal = hashtag_extract(train[\"message\"][train[\"sentiment\"] == 0])\n",
    "# Extracting Hashtags From Anti Sentiments\n",
    "HT_negative = hashtag_extract(train[\"message\"][train[\"sentiment\"] == -1])\n",
    "\n",
    "# Unnesting List\n",
    "ht_news = sum(HT_news,[])\n",
    "ht_positive = sum(HT_positive,[])\n",
    "ht_normal = sum(HT_normal,[])\n",
    "ht_negative = sum(HT_negative,[])"
   ]
  },
  {
   "cell_type": "code",
   "execution_count": 34,
   "metadata": {},
   "outputs": [
    {
     "name": "stderr",
     "output_type": "stream",
     "text": [
      "[nltk_data] Downloading package stopwords to\n",
      "[nltk_data]     C:\\Users\\NRamonotsi\\AppData\\Roaming\\nltk_data...\n",
      "[nltk_data]   Package stopwords is already up-to-date!\n",
      "[nltk_data] Downloading package punkt to\n",
      "[nltk_data]     C:\\Users\\NRamonotsi\\AppData\\Roaming\\nltk_data...\n",
      "[nltk_data]   Package punkt is already up-to-date!\n"
     ]
    },
    {
     "data": {
      "text/plain": [
       "True"
      ]
     },
     "execution_count": 34,
     "metadata": {},
     "output_type": "execute_result"
    }
   ],
   "source": [
    "\n",
    "# Import libraries for Natural Languge Processing\n",
    "import re\n",
    "import nltk\n",
    "import numpy as np\n",
    "import pandas as pd\n",
    "from nltk.corpus import stopwords\n",
    "from html.parser import HTMLParser\n",
    "from nltk.stem import PorterStemmer\n",
    "from nltk.tokenize import word_tokenize\n",
    "nltk.download('stopwords')\n",
    "nltk.download('punkt')"
   ]
  },
  {
   "cell_type": "code",
   "execution_count": 35,
   "metadata": {},
   "outputs": [
    {
     "data": {
      "image/png": "[encoded data removed]",
      "text/plain": [
       "<Figure size 720x360 with 1 Axes>"
      ]
     },
     "metadata": {
      "needs_background": "light"
     },
     "output_type": "display_data"
    }
   ],
   "source": [
    "# News Broadcast\n",
    "a = nltk.FreqDist(ht_news)\n",
    "d = pd.DataFrame({'Hashtag': list(a.keys()),\n",
    "                  'Count': list(a.values())})\n",
    "\n",
    "# selecting top 20 most frequent hashtags     \n",
    "d = d.nlargest(columns=\"Count\", n = 10) \n",
    "plt.figure(figsize=(10,5))\n",
    "ax = sns.barplot(data=d, x= \"Hashtag\", y = \"Count\")\n",
    "plt.setp(ax.get_xticklabels(),rotation='vertical', fontsize=10)\n",
    "plt.title('Top 10 Hashtags in News Tweets', fontsize=14)\n",
    "plt.show()"
   ]
  },
  {
   "cell_type": "code",
   "execution_count": null,
   "metadata": {},
   "outputs": [],
   "source": []
  },
  {
   "cell_type": "code",
   "execution_count": 36,
   "metadata": {},
   "outputs": [
    {
     "data": {
      "image/png": "[encoded data removed]",
      "text/plain": [
       "<Figure size 720x360 with 1 Axes>"
      ]
     },
     "metadata": {
      "needs_background": "light"
     },
     "output_type": "display_data"
    }
   ],
   "source": [
    "# Neutral Sentiments\n",
    "a = nltk.FreqDist(ht_normal)\n",
    "d = pd.DataFrame({'Hashtag': list(a.keys()),\n",
    "                  'Count': list(a.values())})\n",
    "\n",
    "# selecting top 10 most frequent hashtags     \n",
    "d = d.nlargest(columns=\"Count\", n = 10) \n",
    "plt.figure(figsize=(10,5))\n",
    "ax = sns.barplot(data=d, x= \"Hashtag\", y = \"Count\")\n",
    "plt.setp(ax.get_xticklabels(),rotation='vertical', fontsize=10)\n",
    "plt.title('Top 10 Hashtags in Neutral Tweets', fontsize=14)\n",
    "plt.show()"
   ]
  },
  {
   "cell_type": "code",
   "execution_count": 37,
   "metadata": {},
   "outputs": [
    {
     "data": {
      "image/png": "[encoded data removed]",
      "text/plain": [
       "<Figure size 720x360 with 1 Axes>"
      ]
     },
     "metadata": {
      "needs_background": "light"
     },
     "output_type": "display_data"
    }
   ],
   "source": [
    "#Negative Sentiments\n",
    "a = nltk.FreqDist(ht_negative)\n",
    "d = pd.DataFrame({'Hashtag': list(a.keys()),\n",
    "                  'Count': list(a.values())})\n",
    "\n",
    "# selecting top 10 most frequent hashtags     \n",
    "d = d.nlargest(columns=\"Count\", n = 10) \n",
    "plt.figure(figsize=(10,5))\n",
    "ax = sns.barplot(data=d, x= \"Hashtag\", y = \"Count\")\n",
    "plt.setp(ax.get_xticklabels(),rotation='vertical', fontsize=10)\n",
    "plt.title('Top 10 Hashtags in \"Anti\" Tweets', fontsize=14)\n",
    "plt.show()"
   ]
  },
  {
   "cell_type": "code",
   "execution_count": 38,
   "metadata": {},
   "outputs": [
    {
     "data": {
      "image/png": "[encoded data removed]",
      "text/plain": [
       "<Figure size 720x360 with 1 Axes>"
      ]
     },
     "metadata": {
      "needs_background": "light"
     },
     "output_type": "display_data"
    }
   ],
   "source": [
    "#Positive Sentiments\n",
    "a = nltk.FreqDist(ht_positive)\n",
    "d = pd.DataFrame({'Hashtag': list(a.keys()),\n",
    "                  'Count': list(a.values())})\n",
    "\n",
    "# selecting top 10 most frequent hashtags     \n",
    "d = d.nlargest(columns=\"Count\", n = 10) \n",
    "plt.figure(figsize=(10,5))\n",
    "ax = sns.barplot(data=d, x= \"Hashtag\", y = \"Count\")\n",
    "plt.setp(ax.get_xticklabels(),rotation='vertical', fontsize=10)\n",
    "plt.title('Top 10 Hashtags in \"Pro\" Tweets', fontsize=14)\n",
    "plt.show()"
   ]
  },
  {
   "cell_type": "code",
   "execution_count": 39,
   "metadata": {},
   "outputs": [
    {
     "data": {
      "text/html": [
       "<div>\n",
       "<style scoped>\n",
       "    .dataframe tbody tr th:only-of-type {\n",
       "        vertical-align: middle;\n",
       "    }\n",
       "\n",
       "    .dataframe tbody tr th {\n",
       "        vertical-align: top;\n",
       "    }\n",
       "\n",
       "    .dataframe thead th {\n",
       "        text-align: right;\n",
       "    }\n",
       "</style>\n",
       "<table border=\"1\" class=\"dataframe\">\n",
       "  <thead>\n",
       "    <tr style=\"text-align: right;\">\n",
       "      <th></th>\n",
       "      <th>sentiment</th>\n",
       "      <th>message</th>\n",
       "      <th>tweetid</th>\n",
       "    </tr>\n",
       "  </thead>\n",
       "  <tbody>\n",
       "    <tr>\n",
       "      <td>0</td>\n",
       "      <td>1</td>\n",
       "      <td>PolySciMajor EPA chief doesn't think carbon di...</td>\n",
       "      <td>625221</td>\n",
       "    </tr>\n",
       "    <tr>\n",
       "      <td>1</td>\n",
       "      <td>1</td>\n",
       "      <td>It's not like we lack evidence of anthropogeni...</td>\n",
       "      <td>126103</td>\n",
       "    </tr>\n",
       "    <tr>\n",
       "      <td>2</td>\n",
       "      <td>2</td>\n",
       "      <td>RT @RawStory: Researchers say we have three ye...</td>\n",
       "      <td>698562</td>\n",
       "    </tr>\n",
       "    <tr>\n",
       "      <td>3</td>\n",
       "      <td>1</td>\n",
       "      <td>#TodayinMaker# WIRED : 2016 was a pivotal year...</td>\n",
       "      <td>573736</td>\n",
       "    </tr>\n",
       "    <tr>\n",
       "      <td>4</td>\n",
       "      <td>1</td>\n",
       "      <td>RT @SoyNovioDeTodas: It's 2016, and a racist, ...</td>\n",
       "      <td>466954</td>\n",
       "    </tr>\n",
       "  </tbody>\n",
       "</table>\n",
       "</div>"
      ],
      "text/plain": [
       "   sentiment                                            message  tweetid\n",
       "0          1  PolySciMajor EPA chief doesn't think carbon di...   625221\n",
       "1          1  It's not like we lack evidence of anthropogeni...   126103\n",
       "2          2  RT @RawStory: Researchers say we have three ye...   698562\n",
       "3          1  #TodayinMaker# WIRED : 2016 was a pivotal year...   573736\n",
       "4          1  RT @SoyNovioDeTodas: It's 2016, and a racist, ...   466954"
      ]
     },
     "execution_count": 39,
     "metadata": {},
     "output_type": "execute_result"
    }
   ],
   "source": [
    "train.head()"
   ]
  },
  {
   "cell_type": "code",
   "execution_count": 40,
   "metadata": {},
   "outputs": [],
   "source": [
    "#4.Model Building"
   ]
  },
  {
   "cell_type": "code",
   "execution_count": 41,
   "metadata": {},
   "outputs": [],
   "source": [
    "# Split Into X And Y\n",
    "y = train[\"sentiment\"]\n",
    "X = train.drop([\"sentiment\"], axis = 1)"
   ]
  },
  {
   "cell_type": "code",
   "execution_count": 42,
   "metadata": {},
   "outputs": [],
   "source": [
    "#Neo\n",
    "count_vect = CountVectorizer()\n",
    "X_counts = count_vect.fit_transform(X[\"message\"])\n",
    "X_counts.shape\n",
    "count_vect.vocabulary_.get(u'algorithm')\n",
    "\n",
    "test_count = count_vect.transform(test[\"message\"])"
   ]
  },
  {
   "cell_type": "code",
   "execution_count": 43,
   "metadata": {},
   "outputs": [],
   "source": [
    "#neo\n",
    "from nltk import SnowballStemmer\n",
    "from nltk.corpus import stopwords\n",
    "from sklearn.feature_extraction.text import TfidfVectorizer,CountVectorizer\n",
    "from sklearn.model_selection import train_test_split\n",
    "from nltk.tokenize.treebank import TreebankWordDetokenizer\n",
    "from sklearn import preprocessing\n",
    "from sklearn.linear_model import LogisticRegression\n",
    "from sklearn.naive_bayes import MultinomialNB\n",
    "from sklearn.ensemble import RandomForestClassifier\n",
    "from sklearn.svm import SVC\n",
    "from wordcloud import WordCloud\n",
    "from sklearn.metrics import classification_report, f1_score, precision_score, recall_score\n",
    "from sklearn.preprocessing import MaxAbsScaler, StandardScaler"
   ]
  },
  {
   "cell_type": "code",
   "execution_count": 44,
   "metadata": {},
   "outputs": [],
   "source": [
    "#neo\n",
    "sc = MaxAbsScaler().fit(X_counts)\n",
    "X_counts = sc.transform(X_counts)\n",
    "test_count = sc.transform(test_count)"
   ]
  },
  {
   "cell_type": "code",
   "execution_count": 45,
   "metadata": {},
   "outputs": [
    {
     "data": {
      "text/html": [
       "<div>\n",
       "<style scoped>\n",
       "    .dataframe tbody tr th:only-of-type {\n",
       "        vertical-align: middle;\n",
       "    }\n",
       "\n",
       "    .dataframe tbody tr th {\n",
       "        vertical-align: top;\n",
       "    }\n",
       "\n",
       "    .dataframe thead th {\n",
       "        text-align: right;\n",
       "    }\n",
       "</style>\n",
       "<table border=\"1\" class=\"dataframe\">\n",
       "  <thead>\n",
       "    <tr style=\"text-align: right;\">\n",
       "      <th></th>\n",
       "      <th>sentiment</th>\n",
       "      <th>message</th>\n",
       "      <th>tweetid</th>\n",
       "    </tr>\n",
       "  </thead>\n",
       "  <tbody>\n",
       "    <tr>\n",
       "      <td>0</td>\n",
       "      <td>1</td>\n",
       "      <td>PolySciMajor EPA chief doesn't think carbon di...</td>\n",
       "      <td>625221</td>\n",
       "    </tr>\n",
       "    <tr>\n",
       "      <td>1</td>\n",
       "      <td>1</td>\n",
       "      <td>It's not like we lack evidence of anthropogeni...</td>\n",
       "      <td>126103</td>\n",
       "    </tr>\n",
       "    <tr>\n",
       "      <td>2</td>\n",
       "      <td>2</td>\n",
       "      <td>RT @RawStory: Researchers say we have three ye...</td>\n",
       "      <td>698562</td>\n",
       "    </tr>\n",
       "    <tr>\n",
       "      <td>3</td>\n",
       "      <td>1</td>\n",
       "      <td>#TodayinMaker# WIRED : 2016 was a pivotal year...</td>\n",
       "      <td>573736</td>\n",
       "    </tr>\n",
       "    <tr>\n",
       "      <td>4</td>\n",
       "      <td>1</td>\n",
       "      <td>RT @SoyNovioDeTodas: It's 2016, and a racist, ...</td>\n",
       "      <td>466954</td>\n",
       "    </tr>\n",
       "  </tbody>\n",
       "</table>\n",
       "</div>"
      ],
      "text/plain": [
       "   sentiment                                            message  tweetid\n",
       "0          1  PolySciMajor EPA chief doesn't think carbon di...   625221\n",
       "1          1  It's not like we lack evidence of anthropogeni...   126103\n",
       "2          2  RT @RawStory: Researchers say we have three ye...   698562\n",
       "3          1  #TodayinMaker# WIRED : 2016 was a pivotal year...   573736\n",
       "4          1  RT @SoyNovioDeTodas: It's 2016, and a racist, ...   466954"
      ]
     },
     "execution_count": 45,
     "metadata": {},
     "output_type": "execute_result"
    }
   ],
   "source": [
    "train.head()\n",
    "\n"
   ]
  },
  {
   "cell_type": "code",
   "execution_count": 46,
   "metadata": {},
   "outputs": [
    {
     "data": {
      "text/html": [
       "<div>\n",
       "<style scoped>\n",
       "    .dataframe tbody tr th:only-of-type {\n",
       "        vertical-align: middle;\n",
       "    }\n",
       "\n",
       "    .dataframe tbody tr th {\n",
       "        vertical-align: top;\n",
       "    }\n",
       "\n",
       "    .dataframe thead th {\n",
       "        text-align: right;\n",
       "    }\n",
       "</style>\n",
       "<table border=\"1\" class=\"dataframe\">\n",
       "  <thead>\n",
       "    <tr style=\"text-align: right;\">\n",
       "      <th></th>\n",
       "      <th>message</th>\n",
       "      <th>tweetid</th>\n",
       "    </tr>\n",
       "  </thead>\n",
       "  <tbody>\n",
       "    <tr>\n",
       "      <td>0</td>\n",
       "      <td>Europe will now be looking to China to make su...</td>\n",
       "      <td>169760</td>\n",
       "    </tr>\n",
       "    <tr>\n",
       "      <td>1</td>\n",
       "      <td>Combine this with the polling of staffers re c...</td>\n",
       "      <td>35326</td>\n",
       "    </tr>\n",
       "    <tr>\n",
       "      <td>2</td>\n",
       "      <td>The scary, unimpeachable evidence that climate...</td>\n",
       "      <td>224985</td>\n",
       "    </tr>\n",
       "    <tr>\n",
       "      <td>3</td>\n",
       "      <td>@Karoli @morgfair @OsborneInk @dailykos \\nPuti...</td>\n",
       "      <td>476263</td>\n",
       "    </tr>\n",
       "    <tr>\n",
       "      <td>4</td>\n",
       "      <td>RT @FakeWillMoore: 'Female orgasms cause globa...</td>\n",
       "      <td>872928</td>\n",
       "    </tr>\n",
       "  </tbody>\n",
       "</table>\n",
       "</div>"
      ],
      "text/plain": [
       "                                             message  tweetid\n",
       "0  Europe will now be looking to China to make su...   169760\n",
       "1  Combine this with the polling of staffers re c...    35326\n",
       "2  The scary, unimpeachable evidence that climate...   224985\n",
       "3  @Karoli @morgfair @OsborneInk @dailykos \\nPuti...   476263\n",
       "4  RT @FakeWillMoore: 'Female orgasms cause globa...   872928"
      ]
     },
     "execution_count": 46,
     "metadata": {},
     "output_type": "execute_result"
    }
   ],
   "source": [
    "test.head()"
   ]
  },
  {
   "cell_type": "code",
   "execution_count": 47,
   "metadata": {},
   "outputs": [],
   "source": [
    "from sklearn.model_selection import train_test_split"
   ]
  },
  {
   "cell_type": "code",
   "execution_count": 48,
   "metadata": {},
   "outputs": [],
   "source": [
    "#Dataset has been divided into training and test\n",
    "X_train, X_test, y_train, y_test = train_test_split(X, y, test_size = 0.3,random_state=42)"
   ]
  },
  {
   "cell_type": "code",
   "execution_count": 49,
   "metadata": {},
   "outputs": [],
   "source": [
    "#neo\n",
    "X_train, X_test, y_train, y_test = train_test_split(X_counts, y, test_size = 0.3, random_state = 1)"
   ]
  },
  {
   "cell_type": "code",
   "execution_count": 50,
   "metadata": {},
   "outputs": [],
   "source": [
    "logReg_clf = LogisticRegression(max_iter = 2000)\n",
    "lr = logReg_clf.fit(X_train, y_train)"
   ]
  },
  {
   "cell_type": "code",
   "execution_count": 51,
   "metadata": {},
   "outputs": [],
   "source": [
    "from sklearn.metrics import confusion_matrix,classification_report,accuracy_score,f1_score\n",
    "from sklearn import metrics"
   ]
  },
  {
   "cell_type": "code",
   "execution_count": 52,
   "metadata": {},
   "outputs": [
    {
     "name": "stdout",
     "output_type": "stream",
     "text": [
      "Classification Report\n",
      "F1-Score:               precision    recall  f1-score   support\n",
      "\n",
      "          -1       0.76      0.35      0.48       364\n",
      "           0       0.61      0.40      0.48       708\n",
      "           1       0.76      0.87      0.81      2593\n",
      "           2       0.76      0.80      0.78      1081\n",
      "\n",
      "    accuracy                           0.75      4746\n",
      "   macro avg       0.72      0.61      0.64      4746\n",
      "weighted avg       0.74      0.75      0.73      4746\n",
      "\n"
     ]
    }
   ],
   "source": [
    "# LOGISTIC REGRESSION\n",
    "lr_pred = logReg_clf.predict(X_test)\n",
    "print('Classification Report')\n",
    "print(\"F1-Score:\", classification_report(y_test.astype(int), lr_pred))"
   ]
  },
  {
   "cell_type": "code",
   "execution_count": 53,
   "metadata": {},
   "outputs": [
    {
     "name": "stdout",
     "output_type": "stream",
     "text": [
      "Classification Report\n",
      "F1-Score:               precision    recall  f1-score   support\n",
      "\n",
      "          -1       0.76      0.35      0.48       364\n",
      "           0       0.61      0.40      0.48       708\n",
      "           1       0.76      0.87      0.81      2593\n",
      "           2       0.76      0.80      0.78      1081\n",
      "\n",
      "    accuracy                           0.75      4746\n",
      "   macro avg       0.72      0.61      0.64      4746\n",
      "weighted avg       0.74      0.75      0.73      4746\n",
      "\n",
      "Accuracy score : 0.7467340918668353\n",
      "f1 score : 0.7314871061738841\n"
     ]
    }
   ],
   "source": [
    "# LOGISTIC REGRESSION\n",
    "lr_pred = logReg_clf.predict(X_test)\n",
    "print('Classification Report')\n",
    "print(\"F1-Score:\", classification_report(y_test.astype(int), lr_pred))\n",
    "print(f\"Accuracy score : {accuracy_score(y_test,lr_pred)}\")\n",
    "print(f\"f1 score : {f1_score(y_test,lr_pred,average='weighted')}\")"
   ]
  },
  {
   "cell_type": "code",
   "execution_count": 54,
   "metadata": {},
   "outputs": [],
   "source": [
    "from sklearn.linear_model import LogisticRegression\n",
    "from sklearn.metrics import accuracy_score"
   ]
  },
  {
   "cell_type": "code",
   "execution_count": 55,
   "metadata": {},
   "outputs": [],
   "source": [
    "model = LogisticRegression()"
   ]
  },
  {
   "cell_type": "code",
   "execution_count": 56,
   "metadata": {},
   "outputs": [
    {
     "data": {
      "text/plain": [
       "LogisticRegression(C=1.0, class_weight=None, dual=False, fit_intercept=True,\n",
       "                   intercept_scaling=1, l1_ratio=None, max_iter=100,\n",
       "                   multi_class='warn', n_jobs=None, penalty='l2',\n",
       "                   random_state=None, solver='warn', tol=0.0001, verbose=0,\n",
       "                   warm_start=False)"
      ]
     },
     "execution_count": 56,
     "metadata": {},
     "output_type": "execute_result"
    }
   ],
   "source": [
    "model.fit(X_train,y_train)"
   ]
  },
  {
   "cell_type": "code",
   "execution_count": 57,
   "metadata": {},
   "outputs": [],
   "source": [
    "pred_test= model.predict(X_test)"
   ]
  },
  {
   "cell_type": "code",
   "execution_count": 58,
   "metadata": {},
   "outputs": [
    {
     "data": {
      "text/plain": [
       "0.7467340918668353"
      ]
     },
     "execution_count": 58,
     "metadata": {},
     "output_type": "execute_result"
    }
   ],
   "source": [
    "accuracy_score(y_test,pred_test)"
   ]
  },
  {
   "cell_type": "code",
   "execution_count": 59,
   "metadata": {},
   "outputs": [],
   "source": [
    "# Different Models\n",
    "Logireg = LogisticRegression()\n",
    "LinSVC = LinearSVC()\n",
    "NB = MultinomialNB()\n",
    "onevrest = OneVsRestClassifier(LinearSVC(),n_jobs=4)\n",
    "vectorizer = TfidfVectorizer(\n",
    "                             min_df=2, \n",
    "                             max_df=0.9,strip_accents='unicode',\n",
    "                             analyzer='word',\n",
    "                             ngram_range=(1, 2))"
   ]
  },
  {
   "cell_type": "code",
   "execution_count": 60,
   "metadata": {},
   "outputs": [
    {
     "data": {
      "text/plain": [
       "\"\\n# Create Pipeline\\ntext_clf = Pipeline([('tfidf',TfidfVectorizer(\\n                             min_df=3, \\n                             max_df=0.7,strip_accents='unicode',\\n                             analyzer='word',\\n                             ngram_range=(1, 3))),('clf',LinSVC)])\\n\""
      ]
     },
     "execution_count": 60,
     "metadata": {},
     "output_type": "execute_result"
    }
   ],
   "source": [
    "'''\n",
    "# Create Pipeline\n",
    "text_clf = Pipeline([('tfidf',TfidfVectorizer(\n",
    "                             min_df=3, \n",
    "                             max_df=0.7,strip_accents='unicode',\n",
    "                             analyzer='word',\n",
    "                             ngram_range=(1, 3))),('clf',LinSVC)])\n",
    "'''    "
   ]
  },
  {
   "cell_type": "code",
   "execution_count": 61,
   "metadata": {},
   "outputs": [],
   "source": [
    "# Fit Models\n",
    "linsvcmodel = LinSVC.fit(X_train,y_train) #fits this pipeline using the training data\n",
    "naivebayesmodel = NB.fit(X_train,y_train)\n",
    "logisticregression = Logireg.fit(X_train,y_train)\n"
   ]
  },
  {
   "cell_type": "code",
   "execution_count": 62,
   "metadata": {},
   "outputs": [],
   "source": [
    "# Choose Model\n",
    "text_clf = linsvcmodel"
   ]
  },
  {
   "cell_type": "code",
   "execution_count": 63,
   "metadata": {},
   "outputs": [],
   "source": [
    "# Predict\n",
    "predictions = text_clf.predict(X_test)"
   ]
  },
  {
   "cell_type": "code",
   "execution_count": 64,
   "metadata": {},
   "outputs": [
    {
     "name": "stdout",
     "output_type": "stream",
     "text": [
      "              precision    recall  f1-score   support\n",
      "\n",
      "          -1       0.64      0.48      0.55       364\n",
      "           0       0.57      0.47      0.52       708\n",
      "           1       0.79      0.83      0.81      2593\n",
      "           2       0.75      0.80      0.77      1081\n",
      "\n",
      "    accuracy                           0.74      4746\n",
      "   macro avg       0.69      0.65      0.66      4746\n",
      "weighted avg       0.74      0.74      0.74      4746\n",
      "\n",
      "Accuracy score : 0.7435735356089338\n",
      "f1 score : 0.7376689999474002\n"
     ]
    }
   ],
   "source": [
    "# Metrics\n",
    "from sklearn.metrics import confusion_matrix,classification_report,accuracy_score,f1_score\n",
    "from sklearn import metrics\n",
    "print(classification_report(y_test,predictions))\n",
    "print(f\"Accuracy score : {accuracy_score(y_test,predictions)}\")\n",
    "print(f\"f1 score : {f1_score(y_test,predictions,average='weighted')}\")"
   ]
  },
  {
   "cell_type": "code",
   "execution_count": 65,
   "metadata": {},
   "outputs": [
    {
     "name": "stdout",
     "output_type": "stream",
     "text": [
      "              precision    recall  f1-score   support\n",
      "\n",
      "          -1       0.71      0.14      0.24       364\n",
      "           0       0.76      0.21      0.33       708\n",
      "           1       0.69      0.93      0.79      2593\n",
      "           2       0.78      0.72      0.75      1081\n",
      "\n",
      "    accuracy                           0.71      4746\n",
      "   macro avg       0.74      0.50      0.53      4746\n",
      "weighted avg       0.72      0.71      0.67      4746\n",
      "\n",
      "Accuracy score : 0.713653603034134\n",
      "f1 score : 0.6709735735773984\n"
     ]
    }
   ],
   "source": [
    "text_clf2 = naivebayesmodel \n",
    "predictions2 = text_clf2.predict(X_test)\n",
    "from sklearn.metrics import confusion_matrix,classification_report,accuracy_score,f1_score\n",
    "from sklearn import metrics\n",
    "print(classification_report(y_test,predictions2))\n",
    "print(f\"Accuracy score : {accuracy_score(y_test,predictions2)}\")\n",
    "print(f\"f1 score : {f1_score(y_test,predictions2,average='weighted')}\")\n"
   ]
  },
  {
   "cell_type": "code",
   "execution_count": 66,
   "metadata": {},
   "outputs": [
    {
     "name": "stdout",
     "output_type": "stream",
     "text": [
      "              precision    recall  f1-score   support\n",
      "\n",
      "          -1       0.76      0.35      0.48       364\n",
      "           0       0.61      0.40      0.48       708\n",
      "           1       0.76      0.87      0.81      2593\n",
      "           2       0.76      0.80      0.78      1081\n",
      "\n",
      "    accuracy                           0.75      4746\n",
      "   macro avg       0.72      0.61      0.64      4746\n",
      "weighted avg       0.74      0.75      0.73      4746\n",
      "\n",
      "Accuracy score : 0.7467340918668353\n",
      "f1 score : 0.6709735735773984\n"
     ]
    }
   ],
   "source": [
    "text_clf3 = logisticregression\n",
    "predictions3 = text_clf3.predict(X_test)\n",
    "from sklearn.metrics import confusion_matrix,classification_report,accuracy_score,f1_score\n",
    "from sklearn import metrics\n",
    "print(classification_report(y_test,predictions3))\n",
    "print(f\"Accuracy score : {accuracy_score(y_test,predictions3)}\")\n",
    "print(f\"f1 score : {f1_score(y_test,predictions2,average='weighted')}\")"
   ]
  },
  {
   "cell_type": "code",
   "execution_count": 67,
   "metadata": {},
   "outputs": [
    {
     "name": "stdout",
     "output_type": "stream",
     "text": [
      "Classification Report\n",
      "F1-Score:               precision    recall  f1-score   support\n",
      "\n",
      "          -1       0.76      0.35      0.48       364\n",
      "           0       0.61      0.40      0.48       708\n",
      "           1       0.76      0.87      0.81      2593\n",
      "           2       0.76      0.80      0.78      1081\n",
      "\n",
      "    accuracy                           0.75      4746\n",
      "   macro avg       0.72      0.61      0.64      4746\n",
      "weighted avg       0.74      0.75      0.73      4746\n",
      "\n",
      "Accuracy score : 0.7435735356089338\n",
      "f1 score : 0.7376689999474002\n"
     ]
    }
   ],
   "source": [
    "# LOGISTIC REGRESSION\n",
    "lr_pred = logReg_clf.predict(X_test)\n",
    "print('Classification Report')\n",
    "print(\"F1-Score:\", classification_report(y_test.astype(int), lr_pred))\n",
    "print(f\"Accuracy score : {accuracy_score(y_test,predictions)}\")\n",
    "print(f\"f1 score : {f1_score(y_test,predictions,average='weighted')}\")"
   ]
  },
  {
   "cell_type": "code",
   "execution_count": 68,
   "metadata": {},
   "outputs": [],
   "source": [
    "#Predict Raw Data"
   ]
  },
  {
   "cell_type": "code",
   "execution_count": 69,
   "metadata": {},
   "outputs": [
    {
     "data": {
      "text/html": [
       "<div>\n",
       "<style scoped>\n",
       "    .dataframe tbody tr th:only-of-type {\n",
       "        vertical-align: middle;\n",
       "    }\n",
       "\n",
       "    .dataframe tbody tr th {\n",
       "        vertical-align: top;\n",
       "    }\n",
       "\n",
       "    .dataframe thead th {\n",
       "        text-align: right;\n",
       "    }\n",
       "</style>\n",
       "<table border=\"1\" class=\"dataframe\">\n",
       "  <thead>\n",
       "    <tr style=\"text-align: right;\">\n",
       "      <th></th>\n",
       "      <th>tweetid</th>\n",
       "      <th>sentiment</th>\n",
       "    </tr>\n",
       "  </thead>\n",
       "  <tbody>\n",
       "    <tr>\n",
       "      <td>0</td>\n",
       "      <td>169760</td>\n",
       "      <td>1</td>\n",
       "    </tr>\n",
       "    <tr>\n",
       "      <td>1</td>\n",
       "      <td>35326</td>\n",
       "      <td>1</td>\n",
       "    </tr>\n",
       "    <tr>\n",
       "      <td>2</td>\n",
       "      <td>224985</td>\n",
       "      <td>1</td>\n",
       "    </tr>\n",
       "    <tr>\n",
       "      <td>3</td>\n",
       "      <td>476263</td>\n",
       "      <td>1</td>\n",
       "    </tr>\n",
       "    <tr>\n",
       "      <td>4</td>\n",
       "      <td>872928</td>\n",
       "      <td>1</td>\n",
       "    </tr>\n",
       "  </tbody>\n",
       "</table>\n",
       "</div>"
      ],
      "text/plain": [
       "   tweetid  sentiment\n",
       "0   169760          1\n",
       "1    35326          1\n",
       "2   224985          1\n",
       "3   476263          1\n",
       "4   872928          1"
      ]
     },
     "execution_count": 69,
     "metadata": {},
     "output_type": "execute_result"
    }
   ],
   "source": [
    "submission=pd.read_csv('climate_sample_submission.csv')\n",
    "submission.head()"
   ]
  },
  {
   "cell_type": "code",
   "execution_count": 70,
   "metadata": {},
   "outputs": [],
   "source": [
    "#Convert the submission to .csv format and make submission to check the accuracy on the leaderboard.\n",
    "pd.DataFrame(submission, columns=['tweetid','sentiment']).to_csv('lr_clf.csv',index = False)"
   ]
  },
  {
   "cell_type": "code",
   "execution_count": 71,
   "metadata": {},
   "outputs": [],
   "source": [
    "test_pred = logReg_clf.predict(test_count)\n",
    "submission = pd.DataFrame(test[\"tweetid\"], columns = [\"tweetid\"])\n",
    "submission[\"sentiment\"] = test_pred\n",
    "submission.head()\n",
    "#create a csv submission for Kaggle\n",
    "submission.to_csv('logReg_clf.csv', index=False)"
   ]
  }
 ],
 "metadata": {
  "kernelspec": {
   "display_name": "Python 3",
   "language": "python",
   "name": "python3"
  },
  "language_info": {
   "codemirror_mode": {
    "name": "ipython",
    "version": 3
   },
   "file_extension": ".py",
   "mimetype": "text/x-python",
   "name": "python",
   "nbconvert_exporter": "python",
   "pygments_lexer": "ipython3",
   "version": "3.7.4"
  }
 },
 "nbformat": 4,
 "nbformat_minor": 2
}
